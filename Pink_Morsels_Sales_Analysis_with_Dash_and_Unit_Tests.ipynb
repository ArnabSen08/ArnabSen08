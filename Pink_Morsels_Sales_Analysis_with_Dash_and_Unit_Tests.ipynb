{
  "nbformat": 4,
  "nbformat_minor": 0,
  "metadata": {
    "colab": {
      "provenance": [],
      "authorship_tag": "ABX9TyPk5nJt+lCLVkTJ+Tlm2Sf1",
      "include_colab_link": true
    },
    "kernelspec": {
      "name": "python3",
      "display_name": "Python 3"
    },
    "language_info": {
      "name": "python"
    }
  },
  "cells": [
    {
      "cell_type": "markdown",
      "metadata": {
        "id": "view-in-github",
        "colab_type": "text"
      },
      "source": [
        "<a href=\"https://colab.research.google.com/github/ArnabSen08/ArnabSen08/blob/main/Pink_Morsels_Sales_Analysis_with_Dash_and_Unit_Tests.ipynb\" target=\"_parent\"><img src=\"https://colab.research.google.com/assets/colab-badge.svg\" alt=\"Open In Colab\"/></a>"
      ]
    },
    {
      "cell_type": "code",
      "execution_count": 1,
      "metadata": {
        "colab": {
          "base_uri": "https://localhost:8080/"
        },
        "id": "aDEM2Zb7PR7m",
        "outputId": "c1cacd7d-265a-4799-cae8-97c3614efdf5"
      },
      "outputs": [
        {
          "output_type": "stream",
          "name": "stdout",
          "text": [
            "Cloning into 'quantium-starter-repo'...\n",
            "remote: Enumerating objects: 14, done.\u001b[K\n",
            "remote: Total 14 (delta 0), reused 0 (delta 0), pack-reused 14 (from 1)\u001b[K\n",
            "Receiving objects: 100% (14/14), 207.53 KiB | 2.63 MiB/s, done.\n",
            "Resolving deltas: 100% (3/3), done.\n"
          ]
        }
      ],
      "source": [
        "# prompt: git clone https://github.com/ArnabSen08/quantium-starter-repo\n",
        "\n",
        "!git clone https://github.com/ArnabSen08/quantium-starter-repo\n"
      ]
    },
    {
      "cell_type": "code",
      "source": [
        "import pandas as pd\n",
        "import glob\n",
        "\n",
        "# Load all CSV files from the data folder\n",
        "files = glob.glob('data/*.csv')\n",
        "\n",
        "# Initialize an empty DataFrame\n",
        "all_data = pd.DataFrame()\n",
        "\n",
        "# Process each file\n",
        "for file in files:\n",
        "    df = pd.read_csv(file)\n",
        "    # Filter for Pink Morsels\n",
        "    df = df[df['product'] == 'Pink Morsels']\n",
        "    # Calculate sales\n",
        "    df['sales'] = df['quantity'] * df['price']\n",
        "    # Select relevant columns\n",
        "    df = df[['sales', 'date', 'region']]\n",
        "    # Append to the main DataFrame\n",
        "    all_data = pd.concat([all_data, df])\n",
        "\n",
        "# Save the formatted output to a new CSV file\n",
        "all_data.to_csv('formatted_output.csv', index=False)\n"
      ],
      "metadata": {
        "id": "SnNU-CjPQRG2"
      },
      "execution_count": 3,
      "outputs": []
    },
    {
      "source": [
        "import pandas as pd\n",
        "import glob"
      ],
      "cell_type": "code",
      "metadata": {
        "id": "StyeAvwaQ6jr"
      },
      "execution_count": 4,
      "outputs": []
    },
    {
      "source": [
        "# Load all CSV files from the data folder\n",
        "files = glob.glob('data/*.csv')\n",
        "\n",
        "# Initialize an empty DataFrame\n",
        "all_data = pd.DataFrame()"
      ],
      "cell_type": "code",
      "metadata": {
        "id": "FUyEtL-nQ8K7"
      },
      "execution_count": 5,
      "outputs": []
    },
    {
      "source": [
        "# Process each file\n",
        "for file in files:\n",
        "    df = pd.read_csv(file)\n",
        "    # Filter for Pink Morsels\n",
        "    df = df[df['product'] == 'Pink Morsels']\n",
        "    # Calculate sales\n",
        "    df['sales'] = df['quantity'] * df['price']\n",
        "    # Select relevant columns\n",
        "    df = df[['sales', 'date', 'region']]\n",
        "    # Append to the main DataFrame\n",
        "    all_data = pd.concat([all_data, df])"
      ],
      "cell_type": "code",
      "metadata": {
        "id": "KeVh_uZ6Q9zi"
      },
      "execution_count": 6,
      "outputs": []
    },
    {
      "source": [
        "# Save the formatted output to a new CSV file\n",
        "all_data.to_csv('formatted_output.csv', index=False)"
      ],
      "cell_type": "code",
      "metadata": {
        "id": "O-m3CJPjQ_Tw"
      },
      "execution_count": 7,
      "outputs": []
    },
    {
      "source": [
        "!git add ."
      ],
      "cell_type": "code",
      "metadata": {
        "id": "zJnH4yfaRG-z"
      },
      "execution_count": 17,
      "outputs": []
    },
    {
      "source": [
        "!git commit -m \"Your commit message\""
      ],
      "cell_type": "code",
      "metadata": {
        "colab": {
          "base_uri": "https://localhost:8080/"
        },
        "id": "EHLv0ewYRKr9",
        "outputId": "e46334d9-8978-4b8f-f025-c1e025385da3"
      },
      "execution_count": 18,
      "outputs": [
        {
          "output_type": "stream",
          "name": "stdout",
          "text": [
            "Author identity unknown\n",
            "\n",
            "*** Please tell me who you are.\n",
            "\n",
            "Run\n",
            "\n",
            "  git config --global user.email \"you@example.com\"\n",
            "  git config --global user.name \"Your Name\"\n",
            "\n",
            "to set your account's default identity.\n",
            "Omit --global to set the identity only in this repository.\n",
            "\n",
            "fatal: unable to auto-detect email address (got 'root@dfad840de34f.(none)')\n"
          ]
        }
      ]
    },
    {
      "cell_type": "code",
      "source": [
        "# prompt: git config --global user.email \"beanclarksum@gmail.com\"\n",
        "#   git config --global user.name \"Arnab Sen\"\n",
        "\n",
        "!git config --global user.email \"beanclarksum@gmail.com\"\n",
        "!git config --global user.name \"Arnab Sen\"\n",
        "!git push origin main\n"
      ],
      "metadata": {
        "colab": {
          "base_uri": "https://localhost:8080/"
        },
        "id": "zc7SODxtRrT1",
        "outputId": "531b7a0d-ab12-4196-86e0-e3cd2fc6f1d3"
      },
      "execution_count": 19,
      "outputs": [
        {
          "output_type": "stream",
          "name": "stdout",
          "text": [
            "fatal: could not read Username for 'https://github.com': No such device or address\n"
          ]
        }
      ]
    },
    {
      "source": [
        "!git push"
      ],
      "cell_type": "code",
      "metadata": {
        "colab": {
          "base_uri": "https://localhost:8080/"
        },
        "id": "3123oJ-SROLi",
        "outputId": "c84b9446-1a69-482c-9167-59b91893eed5"
      },
      "execution_count": 20,
      "outputs": [
        {
          "output_type": "stream",
          "name": "stdout",
          "text": [
            "fatal: could not read Username for 'https://github.com': No such device or address\n"
          ]
        }
      ]
    },
    {
      "cell_type": "code",
      "source": [
        "pwd\n"
      ],
      "metadata": {
        "colab": {
          "base_uri": "https://localhost:8080/",
          "height": 36
        },
        "id": "JSQooP7URTSX",
        "outputId": "50a7b5da-04aa-49ea-8e2f-23ea006957c4"
      },
      "execution_count": 14,
      "outputs": [
        {
          "output_type": "execute_result",
          "data": {
            "text/plain": [
              "'/content'"
            ],
            "application/vnd.google.colaboratory.intrinsic+json": {
              "type": "string"
            }
          },
          "metadata": {},
          "execution_count": 14
        }
      ]
    },
    {
      "cell_type": "code",
      "source": [
        "cd /content/quantium-starter-repo"
      ],
      "metadata": {
        "colab": {
          "base_uri": "https://localhost:8080/"
        },
        "id": "3XMI8XvrRW_z",
        "outputId": "8528f406-876e-48ca-b877-ebba248db29d"
      },
      "execution_count": 15,
      "outputs": [
        {
          "output_type": "stream",
          "name": "stdout",
          "text": [
            "/content/quantium-starter-repo\n"
          ]
        }
      ]
    },
    {
      "cell_type": "code",
      "source": [
        "# prompt: can you run all the above commands in this directory\n",
        "\n",
        "import pandas as pd\n",
        "import glob\n",
        "\n",
        "\n",
        "\n",
        "# Load all CSV files from the data folder\n",
        "files = glob.glob('/content/quantium-starter-repo/data/*.csv')\n",
        "\n",
        "# Initialize an empty DataFrame\n",
        "all_data = pd.DataFrame()\n",
        "\n",
        "# Process each file\n",
        "for file in files:\n",
        "    df = pd.read_csv(file)\n",
        "    # Filter for Pink Morsels\n",
        "    df = df[df['product'] == 'Pink Morsels']\n",
        "    # Calculate sales\n",
        "    df['sales'] = df['quantity'] * df['price']\n",
        "    # Select relevant columns\n",
        "    df = df[['sales', 'date', 'region']]\n",
        "    # Append to the main DataFrame\n",
        "    all_data = pd.concat([all_data, df])\n",
        "\n",
        "# Save the formatted output to a new CSV file\n",
        "all_data.to_csv('/content/quantium-starter-repo/formatted_output.csv', index=False)\n",
        "\n",
        "# Load all CSV files from the data folder\n",
        "files = glob.glob('/content/quantium-starter-repo/data/*.csv')\n",
        "\n",
        "# Initialize an empty DataFrame\n",
        "all_data = pd.DataFrame()\n",
        "# Process each file\n",
        "for file in files:\n",
        "    df = pd.read_csv(file)\n",
        "    # Filter for Pink Morsels\n",
        "    df = df[df['product'] == 'Pink Morsels']\n",
        "    # Calculate sales\n",
        "    df['sales'] = df['quantity'] * df['price']\n",
        "    # Select relevant columns\n",
        "    df = df[['sales', 'date', 'region']]\n",
        "    # Append to the main DataFrame\n",
        "    all_data = pd.concat([all_data, df])\n",
        "# Save the formatted output to a new CSV file\n",
        "all_data.to_csv('/content/quantium-starter-repo/formatted_output.csv', index=False)\n",
        "!cd /content/quantium-starter-repo && git add . && git commit -m \"Your commit message\" && git push\n",
        "!pwd\n",
        "!cd /content/quantium-starter-repo\n"
      ],
      "metadata": {
        "colab": {
          "base_uri": "https://localhost:8080/"
        },
        "id": "mzlE0L8bRZr-",
        "outputId": "d2cd9b30-c9c9-473a-b8bd-f4f86f38b1b4"
      },
      "execution_count": 16,
      "outputs": [
        {
          "output_type": "stream",
          "name": "stdout",
          "text": [
            "Author identity unknown\n",
            "\n",
            "*** Please tell me who you are.\n",
            "\n",
            "Run\n",
            "\n",
            "  git config --global user.email \"you@example.com\"\n",
            "  git config --global user.name \"Your Name\"\n",
            "\n",
            "to set your account's default identity.\n",
            "Omit --global to set the identity only in this repository.\n",
            "\n",
            "fatal: unable to auto-detect email address (got 'root@dfad840de34f.(none)')\n",
            "/content/quantium-starter-repo\n"
          ]
        }
      ]
    },
    {
      "cell_type": "code",
      "source": [
        "# prompt: Create a Dash app to visualize sales data. Include a header and a line chart with appropriate axis labels. The goal is to determine if sales were higher before or after the Pink Morsel price increase on January 15, 2021. Use the provided resources to learn Dash basics. The visualizer should clearly answer the business question for Soul Foods.\n",
        "\n",
        "!pip install dash\n",
        "!pip install plotly\n",
        "\n",
        "import pandas as pd\n",
        "import plotly.express as px\n",
        "import dash\n",
        "from dash import dcc\n",
        "from dash import html\n",
        "\n",
        "# Load the formatted data\n",
        "df = pd.read_csv('/content/quantium-starter-repo/formatted_output.csv')\n",
        "\n",
        "# Convert the 'date' column to datetime\n",
        "df['date'] = pd.to_datetime(df['date'])\n",
        "\n",
        "# Create the Dash app\n",
        "app = dash.Dash(__name__)\n",
        "\n",
        "# Define the app layout\n",
        "app.layout = html.Div(children=[\n",
        "    html.H1(children='Pink Morsels Sales Analysis'),\n",
        "    html.Div(children='''\n",
        "        This graph shows the sales of Pink Morsels over time.\n",
        "    '''),\n",
        "    dcc.Graph(\n",
        "        id='sales-over-time',\n",
        "        figure={\n",
        "            'data': [\n",
        "                {'x': df['date'], 'y': df['sales'], 'type': 'line', 'name': 'Sales'},\n",
        "            ],\n",
        "            'layout': {\n",
        "                'title': 'Pink Morsels Sales Over Time',\n",
        "                'xaxis': {'title': 'Date'},\n",
        "                'yaxis': {'title': 'Sales'},\n",
        "            }\n",
        "        }\n",
        "    )\n",
        "])\n",
        "\n",
        "# Run the app\n",
        "if __name__ == '__main__':\n",
        "  app.run_server(debug=True)\n"
      ],
      "metadata": {
        "colab": {
          "base_uri": "https://localhost:8080/",
          "height": 1000
        },
        "id": "C5yYoT4sS8Eq",
        "outputId": "88736e23-1ede-4ecc-fca2-73c2254d9f28"
      },
      "execution_count": 21,
      "outputs": [
        {
          "output_type": "stream",
          "name": "stdout",
          "text": [
            "Collecting dash\n",
            "  Downloading dash-2.18.1-py3-none-any.whl.metadata (10 kB)\n",
            "Requirement already satisfied: Flask<3.1,>=1.0.4 in /usr/local/lib/python3.10/dist-packages (from dash) (2.2.5)\n",
            "Requirement already satisfied: Werkzeug<3.1 in /usr/local/lib/python3.10/dist-packages (from dash) (3.0.4)\n",
            "Requirement already satisfied: plotly>=5.0.0 in /usr/local/lib/python3.10/dist-packages (from dash) (5.15.0)\n",
            "Collecting dash-html-components==2.0.0 (from dash)\n",
            "  Downloading dash_html_components-2.0.0-py3-none-any.whl.metadata (3.8 kB)\n",
            "Collecting dash-core-components==2.0.0 (from dash)\n",
            "  Downloading dash_core_components-2.0.0-py3-none-any.whl.metadata (2.9 kB)\n",
            "Collecting dash-table==5.0.0 (from dash)\n",
            "  Downloading dash_table-5.0.0-py3-none-any.whl.metadata (2.4 kB)\n",
            "Requirement already satisfied: importlib-metadata in /usr/local/lib/python3.10/dist-packages (from dash) (8.4.0)\n",
            "Requirement already satisfied: typing-extensions>=4.1.1 in /usr/local/lib/python3.10/dist-packages (from dash) (4.12.2)\n",
            "Requirement already satisfied: requests in /usr/local/lib/python3.10/dist-packages (from dash) (2.32.3)\n",
            "Collecting retrying (from dash)\n",
            "  Downloading retrying-1.3.4-py3-none-any.whl.metadata (6.9 kB)\n",
            "Requirement already satisfied: nest-asyncio in /usr/local/lib/python3.10/dist-packages (from dash) (1.6.0)\n",
            "Requirement already satisfied: setuptools in /usr/local/lib/python3.10/dist-packages (from dash) (71.0.4)\n",
            "Requirement already satisfied: Jinja2>=3.0 in /usr/local/lib/python3.10/dist-packages (from Flask<3.1,>=1.0.4->dash) (3.1.4)\n",
            "Requirement already satisfied: itsdangerous>=2.0 in /usr/local/lib/python3.10/dist-packages (from Flask<3.1,>=1.0.4->dash) (2.2.0)\n",
            "Requirement already satisfied: click>=8.0 in /usr/local/lib/python3.10/dist-packages (from Flask<3.1,>=1.0.4->dash) (8.1.7)\n",
            "Requirement already satisfied: tenacity>=6.2.0 in /usr/local/lib/python3.10/dist-packages (from plotly>=5.0.0->dash) (9.0.0)\n",
            "Requirement already satisfied: packaging in /usr/local/lib/python3.10/dist-packages (from plotly>=5.0.0->dash) (24.1)\n",
            "Requirement already satisfied: MarkupSafe>=2.1.1 in /usr/local/lib/python3.10/dist-packages (from Werkzeug<3.1->dash) (2.1.5)\n",
            "Requirement already satisfied: zipp>=0.5 in /usr/local/lib/python3.10/dist-packages (from importlib-metadata->dash) (3.20.1)\n",
            "Requirement already satisfied: charset-normalizer<4,>=2 in /usr/local/lib/python3.10/dist-packages (from requests->dash) (3.3.2)\n",
            "Requirement already satisfied: idna<4,>=2.5 in /usr/local/lib/python3.10/dist-packages (from requests->dash) (3.8)\n",
            "Requirement already satisfied: urllib3<3,>=1.21.1 in /usr/local/lib/python3.10/dist-packages (from requests->dash) (2.0.7)\n",
            "Requirement already satisfied: certifi>=2017.4.17 in /usr/local/lib/python3.10/dist-packages (from requests->dash) (2024.8.30)\n",
            "Requirement already satisfied: six>=1.7.0 in /usr/local/lib/python3.10/dist-packages (from retrying->dash) (1.16.0)\n",
            "Downloading dash-2.18.1-py3-none-any.whl (7.5 MB)\n",
            "\u001b[2K   \u001b[90m━━━━━━━━━━━━━━━━━━━━━━━━━━━━━━━━━━━━━━━━\u001b[0m \u001b[32m7.5/7.5 MB\u001b[0m \u001b[31m38.8 MB/s\u001b[0m eta \u001b[36m0:00:00\u001b[0m\n",
            "\u001b[?25hDownloading dash_core_components-2.0.0-py3-none-any.whl (3.8 kB)\n",
            "Downloading dash_html_components-2.0.0-py3-none-any.whl (4.1 kB)\n",
            "Downloading dash_table-5.0.0-py3-none-any.whl (3.9 kB)\n",
            "Downloading retrying-1.3.4-py3-none-any.whl (11 kB)\n",
            "Installing collected packages: dash-table, dash-html-components, dash-core-components, retrying, dash\n",
            "Successfully installed dash-2.18.1 dash-core-components-2.0.0 dash-html-components-2.0.0 dash-table-5.0.0 retrying-1.3.4\n",
            "Requirement already satisfied: plotly in /usr/local/lib/python3.10/dist-packages (5.15.0)\n",
            "Requirement already satisfied: tenacity>=6.2.0 in /usr/local/lib/python3.10/dist-packages (from plotly) (9.0.0)\n",
            "Requirement already satisfied: packaging in /usr/local/lib/python3.10/dist-packages (from plotly) (24.1)\n"
          ]
        },
        {
          "output_type": "display_data",
          "data": {
            "text/plain": [
              "<IPython.core.display.Javascript object>"
            ],
            "application/javascript": [
              "(async (port, path, width, height, cache, element) => {\n",
              "    if (!google.colab.kernel.accessAllowed && !cache) {\n",
              "      return;\n",
              "    }\n",
              "    element.appendChild(document.createTextNode(''));\n",
              "    const url = await google.colab.kernel.proxyPort(port, {cache});\n",
              "    const iframe = document.createElement('iframe');\n",
              "    iframe.src = new URL(path, url).toString();\n",
              "    iframe.height = height;\n",
              "    iframe.width = width;\n",
              "    iframe.style.border = 0;\n",
              "    iframe.allow = [\n",
              "        'accelerometer',\n",
              "        'autoplay',\n",
              "        'camera',\n",
              "        'clipboard-read',\n",
              "        'clipboard-write',\n",
              "        'gyroscope',\n",
              "        'magnetometer',\n",
              "        'microphone',\n",
              "        'serial',\n",
              "        'usb',\n",
              "        'xr-spatial-tracking',\n",
              "    ].join('; ');\n",
              "    element.appendChild(iframe);\n",
              "  })(8050, \"/\", \"100%\", 650, false, window.element)"
            ]
          },
          "metadata": {}
        }
      ]
    },
    {
      "source": [
        "!pip install dash-bootstrap-components"
      ],
      "cell_type": "code",
      "metadata": {
        "colab": {
          "base_uri": "https://localhost:8080/"
        },
        "id": "fZZU7n9WTnNH",
        "outputId": "bc8fd019-0ca7-45e8-9611-f44c0b171c02"
      },
      "execution_count": 22,
      "outputs": [
        {
          "output_type": "stream",
          "name": "stdout",
          "text": [
            "Collecting dash-bootstrap-components\n",
            "  Downloading dash_bootstrap_components-1.6.0-py3-none-any.whl.metadata (5.2 kB)\n",
            "Requirement already satisfied: dash>=2.0.0 in /usr/local/lib/python3.10/dist-packages (from dash-bootstrap-components) (2.18.1)\n",
            "Requirement already satisfied: Flask<3.1,>=1.0.4 in /usr/local/lib/python3.10/dist-packages (from dash>=2.0.0->dash-bootstrap-components) (2.2.5)\n",
            "Requirement already satisfied: Werkzeug<3.1 in /usr/local/lib/python3.10/dist-packages (from dash>=2.0.0->dash-bootstrap-components) (3.0.4)\n",
            "Requirement already satisfied: plotly>=5.0.0 in /usr/local/lib/python3.10/dist-packages (from dash>=2.0.0->dash-bootstrap-components) (5.15.0)\n",
            "Requirement already satisfied: dash-html-components==2.0.0 in /usr/local/lib/python3.10/dist-packages (from dash>=2.0.0->dash-bootstrap-components) (2.0.0)\n",
            "Requirement already satisfied: dash-core-components==2.0.0 in /usr/local/lib/python3.10/dist-packages (from dash>=2.0.0->dash-bootstrap-components) (2.0.0)\n",
            "Requirement already satisfied: dash-table==5.0.0 in /usr/local/lib/python3.10/dist-packages (from dash>=2.0.0->dash-bootstrap-components) (5.0.0)\n",
            "Requirement already satisfied: importlib-metadata in /usr/local/lib/python3.10/dist-packages (from dash>=2.0.0->dash-bootstrap-components) (8.4.0)\n",
            "Requirement already satisfied: typing-extensions>=4.1.1 in /usr/local/lib/python3.10/dist-packages (from dash>=2.0.0->dash-bootstrap-components) (4.12.2)\n",
            "Requirement already satisfied: requests in /usr/local/lib/python3.10/dist-packages (from dash>=2.0.0->dash-bootstrap-components) (2.32.3)\n",
            "Requirement already satisfied: retrying in /usr/local/lib/python3.10/dist-packages (from dash>=2.0.0->dash-bootstrap-components) (1.3.4)\n",
            "Requirement already satisfied: nest-asyncio in /usr/local/lib/python3.10/dist-packages (from dash>=2.0.0->dash-bootstrap-components) (1.6.0)\n",
            "Requirement already satisfied: setuptools in /usr/local/lib/python3.10/dist-packages (from dash>=2.0.0->dash-bootstrap-components) (71.0.4)\n",
            "Requirement already satisfied: Jinja2>=3.0 in /usr/local/lib/python3.10/dist-packages (from Flask<3.1,>=1.0.4->dash>=2.0.0->dash-bootstrap-components) (3.1.4)\n",
            "Requirement already satisfied: itsdangerous>=2.0 in /usr/local/lib/python3.10/dist-packages (from Flask<3.1,>=1.0.4->dash>=2.0.0->dash-bootstrap-components) (2.2.0)\n",
            "Requirement already satisfied: click>=8.0 in /usr/local/lib/python3.10/dist-packages (from Flask<3.1,>=1.0.4->dash>=2.0.0->dash-bootstrap-components) (8.1.7)\n",
            "Requirement already satisfied: tenacity>=6.2.0 in /usr/local/lib/python3.10/dist-packages (from plotly>=5.0.0->dash>=2.0.0->dash-bootstrap-components) (9.0.0)\n",
            "Requirement already satisfied: packaging in /usr/local/lib/python3.10/dist-packages (from plotly>=5.0.0->dash>=2.0.0->dash-bootstrap-components) (24.1)\n",
            "Requirement already satisfied: MarkupSafe>=2.1.1 in /usr/local/lib/python3.10/dist-packages (from Werkzeug<3.1->dash>=2.0.0->dash-bootstrap-components) (2.1.5)\n",
            "Requirement already satisfied: zipp>=0.5 in /usr/local/lib/python3.10/dist-packages (from importlib-metadata->dash>=2.0.0->dash-bootstrap-components) (3.20.1)\n",
            "Requirement already satisfied: charset-normalizer<4,>=2 in /usr/local/lib/python3.10/dist-packages (from requests->dash>=2.0.0->dash-bootstrap-components) (3.3.2)\n",
            "Requirement already satisfied: idna<4,>=2.5 in /usr/local/lib/python3.10/dist-packages (from requests->dash>=2.0.0->dash-bootstrap-components) (3.8)\n",
            "Requirement already satisfied: urllib3<3,>=1.21.1 in /usr/local/lib/python3.10/dist-packages (from requests->dash>=2.0.0->dash-bootstrap-components) (2.0.7)\n",
            "Requirement already satisfied: certifi>=2017.4.17 in /usr/local/lib/python3.10/dist-packages (from requests->dash>=2.0.0->dash-bootstrap-components) (2024.8.30)\n",
            "Requirement already satisfied: six>=1.7.0 in /usr/local/lib/python3.10/dist-packages (from retrying->dash>=2.0.0->dash-bootstrap-components) (1.16.0)\n",
            "Downloading dash_bootstrap_components-1.6.0-py3-none-any.whl (222 kB)\n",
            "\u001b[2K   \u001b[90m━━━━━━━━━━━━━━━━━━━━━━━━━━━━━━━━━━━━━━━━\u001b[0m \u001b[32m222.5/222.5 kB\u001b[0m \u001b[31m3.9 MB/s\u001b[0m eta \u001b[36m0:00:00\u001b[0m\n",
            "\u001b[?25hInstalling collected packages: dash-bootstrap-components\n",
            "Successfully installed dash-bootstrap-components-1.6.0\n"
          ]
        }
      ]
    },
    {
      "source": [
        "import pandas as pd\n",
        "import plotly.express as px\n",
        "import dash\n",
        "import dash_bootstrap_components as dbc\n",
        "from dash import dcc\n",
        "from dash import html\n",
        "\n",
        "# Load the formatted data\n",
        "df = pd.read_csv('/content/quantium-starter-repo/formatted_output.csv')\n",
        "\n",
        "# Convert the 'date' column to datetime\n",
        "df['date'] = pd.to_datetime(df['date'])\n",
        "\n",
        "# Create the Dash app\n",
        "app = dash.Dash(__name__, external_stylesheets=[dbc.themes.BOOTSTRAP])\n",
        "\n",
        "# Define the app layout\n",
        "app.layout = dbc.Container([\n",
        "    html.H1('Pink Morsels Sales Analysis', className='text-center mb-4'),\n",
        "    html.P('This graph shows the sales of Pink Morsels over time.', className='text-center mb-4'),\n",
        "\n",
        "    dbc.Row([\n",
        "        dbc.Col([\n",
        "            dcc.RadioItems(\n",
        "                id='region-filter',\n",
        "                options=[\n",
        "                    {'label': 'All', 'value': 'all'},\n",
        "                    {'label': 'North', 'value': 'north'},\n",
        "                    {'label': 'East', 'value': 'east'},\n",
        "                    {'label': 'South', 'value': 'south'},\n",
        "                    {'label': 'West', 'value': 'west'},\n",
        "                ],\n",
        "                value='all',\n",
        "                className='mb-4'\n",
        "            ),\n",
        "        ], width=4),\n",
        "        dbc.Col([\n",
        "            dcc.Graph(id='sales-over-time'),\n",
        "        ], width=8),\n",
        "    ]),\n",
        "])\n",
        "\n",
        "@app.callback(\n",
        "    dash.Output('sales-over-time', 'figure'),\n",
        "    [dash.Input('region-filter', 'value')]\n",
        ")\n",
        "def update_graph(selected_region):\n",
        "    if selected_region == 'all':\n",
        "        filtered_df = df\n",
        "    else:\n",
        "        filtered_df = df[df['region'] == selected_region]\n",
        "\n",
        "    fig = px.line(filtered_df, x='date', y='sales', title='Pink Morsels Sales Over Time')\n",
        "    fig.update_layout(\n",
        "        xaxis_title='Date',\n",
        "        yaxis_title='Sales'\n",
        "    )\n",
        "    return fig\n",
        "\n",
        "# Run the app\n",
        "if __name__ == '__main__':\n",
        "    app.run_server(debug=True)"
      ],
      "cell_type": "code",
      "metadata": {
        "colab": {
          "base_uri": "https://localhost:8080/",
          "height": 671
        },
        "id": "OZpAOJbEToeV",
        "outputId": "5090cf67-0b55-4a92-94f9-ba294949ca07"
      },
      "execution_count": 23,
      "outputs": [
        {
          "output_type": "display_data",
          "data": {
            "text/plain": [
              "<IPython.core.display.Javascript object>"
            ],
            "application/javascript": [
              "(async (port, path, width, height, cache, element) => {\n",
              "    if (!google.colab.kernel.accessAllowed && !cache) {\n",
              "      return;\n",
              "    }\n",
              "    element.appendChild(document.createTextNode(''));\n",
              "    const url = await google.colab.kernel.proxyPort(port, {cache});\n",
              "    const iframe = document.createElement('iframe');\n",
              "    iframe.src = new URL(path, url).toString();\n",
              "    iframe.height = height;\n",
              "    iframe.width = width;\n",
              "    iframe.style.border = 0;\n",
              "    iframe.allow = [\n",
              "        'accelerometer',\n",
              "        'autoplay',\n",
              "        'camera',\n",
              "        'clipboard-read',\n",
              "        'clipboard-write',\n",
              "        'gyroscope',\n",
              "        'magnetometer',\n",
              "        'microphone',\n",
              "        'serial',\n",
              "        'usb',\n",
              "        'xr-spatial-tracking',\n",
              "    ].join('; ');\n",
              "    element.appendChild(iframe);\n",
              "  })(8050, \"/\", \"100%\", 650, false, window.element)"
            ]
          },
          "metadata": {}
        }
      ]
    },
    {
      "source": [
        "!pip install dash[testing]"
      ],
      "cell_type": "code",
      "metadata": {
        "colab": {
          "base_uri": "https://localhost:8080/",
          "height": 1000
        },
        "id": "01NgIg7bUBa3",
        "outputId": "3ad507f0-9c4d-4dcd-941e-8a1ad89e27cb"
      },
      "execution_count": 24,
      "outputs": [
        {
          "output_type": "stream",
          "name": "stdout",
          "text": [
            "Requirement already satisfied: dash[testing] in /usr/local/lib/python3.10/dist-packages (2.18.1)\n",
            "Requirement already satisfied: Flask<3.1,>=1.0.4 in /usr/local/lib/python3.10/dist-packages (from dash[testing]) (2.2.5)\n",
            "Requirement already satisfied: Werkzeug<3.1 in /usr/local/lib/python3.10/dist-packages (from dash[testing]) (3.0.4)\n",
            "Requirement already satisfied: plotly>=5.0.0 in /usr/local/lib/python3.10/dist-packages (from dash[testing]) (5.15.0)\n",
            "Requirement already satisfied: dash-html-components==2.0.0 in /usr/local/lib/python3.10/dist-packages (from dash[testing]) (2.0.0)\n",
            "Requirement already satisfied: dash-core-components==2.0.0 in /usr/local/lib/python3.10/dist-packages (from dash[testing]) (2.0.0)\n",
            "Requirement already satisfied: dash-table==5.0.0 in /usr/local/lib/python3.10/dist-packages (from dash[testing]) (5.0.0)\n",
            "Requirement already satisfied: importlib-metadata in /usr/local/lib/python3.10/dist-packages (from dash[testing]) (8.4.0)\n",
            "Requirement already satisfied: typing-extensions>=4.1.1 in /usr/local/lib/python3.10/dist-packages (from dash[testing]) (4.12.2)\n",
            "Requirement already satisfied: requests in /usr/local/lib/python3.10/dist-packages (from dash[testing]) (2.32.3)\n",
            "Requirement already satisfied: retrying in /usr/local/lib/python3.10/dist-packages (from dash[testing]) (1.3.4)\n",
            "Requirement already satisfied: nest-asyncio in /usr/local/lib/python3.10/dist-packages (from dash[testing]) (1.6.0)\n",
            "Requirement already satisfied: setuptools in /usr/local/lib/python3.10/dist-packages (from dash[testing]) (71.0.4)\n",
            "Requirement already satisfied: beautifulsoup4>=4.8.2 in /usr/local/lib/python3.10/dist-packages (from dash[testing]) (4.12.3)\n",
            "Requirement already satisfied: cryptography in /usr/local/lib/python3.10/dist-packages (from dash[testing]) (43.0.1)\n",
            "Requirement already satisfied: lxml>=4.6.2 in /usr/local/lib/python3.10/dist-packages (from dash[testing]) (4.9.4)\n",
            "Collecting percy>=2.0.2 (from dash[testing])\n",
            "  Downloading percy-2.0.2-py2.py3-none-any.whl.metadata (821 bytes)\n",
            "Requirement already satisfied: pytest>=6.0.2 in /usr/local/lib/python3.10/dist-packages (from dash[testing]) (7.4.4)\n",
            "Collecting selenium<=4.2.0,>=3.141.0 (from dash[testing])\n",
            "  Downloading selenium-4.2.0-py3-none-any.whl.metadata (6.5 kB)\n",
            "Collecting waitress>=1.4.4 (from dash[testing])\n",
            "  Downloading waitress-3.0.0-py3-none-any.whl.metadata (4.2 kB)\n",
            "Collecting multiprocess>=0.70.12 (from dash[testing])\n",
            "  Downloading multiprocess-0.70.16-py310-none-any.whl.metadata (7.2 kB)\n",
            "Requirement already satisfied: psutil>=5.8.0 in /usr/local/lib/python3.10/dist-packages (from dash[testing]) (5.9.5)\n",
            "Collecting dash-testing-stub>=0.0.2 (from dash[testing])\n",
            "  Downloading dash_testing_stub-0.0.2-py3-none-any.whl.metadata (587 bytes)\n",
            "Requirement already satisfied: soupsieve>1.2 in /usr/local/lib/python3.10/dist-packages (from beautifulsoup4>=4.8.2->dash[testing]) (2.6)\n",
            "Requirement already satisfied: Jinja2>=3.0 in /usr/local/lib/python3.10/dist-packages (from Flask<3.1,>=1.0.4->dash[testing]) (3.1.4)\n",
            "Requirement already satisfied: itsdangerous>=2.0 in /usr/local/lib/python3.10/dist-packages (from Flask<3.1,>=1.0.4->dash[testing]) (2.2.0)\n",
            "Requirement already satisfied: click>=8.0 in /usr/local/lib/python3.10/dist-packages (from Flask<3.1,>=1.0.4->dash[testing]) (8.1.7)\n",
            "Collecting dill>=0.3.8 (from multiprocess>=0.70.12->dash[testing])\n",
            "  Downloading dill-0.3.8-py3-none-any.whl.metadata (10 kB)\n",
            "Requirement already satisfied: tenacity>=6.2.0 in /usr/local/lib/python3.10/dist-packages (from plotly>=5.0.0->dash[testing]) (9.0.0)\n",
            "Requirement already satisfied: packaging in /usr/local/lib/python3.10/dist-packages (from plotly>=5.0.0->dash[testing]) (24.1)\n",
            "Requirement already satisfied: iniconfig in /usr/local/lib/python3.10/dist-packages (from pytest>=6.0.2->dash[testing]) (2.0.0)\n",
            "Requirement already satisfied: pluggy<2.0,>=0.12 in /usr/local/lib/python3.10/dist-packages (from pytest>=6.0.2->dash[testing]) (1.5.0)\n",
            "Requirement already satisfied: exceptiongroup>=1.0.0rc8 in /usr/local/lib/python3.10/dist-packages (from pytest>=6.0.2->dash[testing]) (1.2.2)\n",
            "Requirement already satisfied: tomli>=1.0.0 in /usr/local/lib/python3.10/dist-packages (from pytest>=6.0.2->dash[testing]) (2.0.1)\n",
            "Requirement already satisfied: charset-normalizer<4,>=2 in /usr/local/lib/python3.10/dist-packages (from requests->dash[testing]) (3.3.2)\n",
            "Requirement already satisfied: idna<4,>=2.5 in /usr/local/lib/python3.10/dist-packages (from requests->dash[testing]) (3.8)\n",
            "Requirement already satisfied: urllib3<3,>=1.21.1 in /usr/local/lib/python3.10/dist-packages (from requests->dash[testing]) (2.0.7)\n",
            "Requirement already satisfied: certifi>=2017.4.17 in /usr/local/lib/python3.10/dist-packages (from requests->dash[testing]) (2024.8.30)\n",
            "Collecting urllib3<3,>=1.21.1 (from requests->dash[testing])\n",
            "  Downloading urllib3-1.26.20-py2.py3-none-any.whl.metadata (50 kB)\n",
            "\u001b[2K     \u001b[90m━━━━━━━━━━━━━━━━━━━━━━━━━━━━━━━━━━━━━━━━\u001b[0m \u001b[32m50.1/50.1 kB\u001b[0m \u001b[31m1.9 MB/s\u001b[0m eta \u001b[36m0:00:00\u001b[0m\n",
            "\u001b[?25hCollecting trio~=0.17 (from selenium<=4.2.0,>=3.141.0->dash[testing])\n",
            "  Downloading trio-0.26.2-py3-none-any.whl.metadata (8.6 kB)\n",
            "Collecting trio-websocket~=0.9 (from selenium<=4.2.0,>=3.141.0->dash[testing])\n",
            "  Downloading trio_websocket-0.11.1-py3-none-any.whl.metadata (4.7 kB)\n",
            "Requirement already satisfied: MarkupSafe>=2.1.1 in /usr/local/lib/python3.10/dist-packages (from Werkzeug<3.1->dash[testing]) (2.1.5)\n",
            "Requirement already satisfied: cffi>=1.12 in /usr/local/lib/python3.10/dist-packages (from cryptography->dash[testing]) (1.17.1)\n",
            "Requirement already satisfied: zipp>=0.5 in /usr/local/lib/python3.10/dist-packages (from importlib-metadata->dash[testing]) (3.20.1)\n",
            "Requirement already satisfied: six>=1.7.0 in /usr/local/lib/python3.10/dist-packages (from retrying->dash[testing]) (1.16.0)\n",
            "Requirement already satisfied: pycparser in /usr/local/lib/python3.10/dist-packages (from cffi>=1.12->cryptography->dash[testing]) (2.22)\n",
            "Requirement already satisfied: attrs>=23.2.0 in /usr/local/lib/python3.10/dist-packages (from trio~=0.17->selenium<=4.2.0,>=3.141.0->dash[testing]) (24.2.0)\n",
            "Requirement already satisfied: sortedcontainers in /usr/local/lib/python3.10/dist-packages (from trio~=0.17->selenium<=4.2.0,>=3.141.0->dash[testing]) (2.4.0)\n",
            "Collecting outcome (from trio~=0.17->selenium<=4.2.0,>=3.141.0->dash[testing])\n",
            "  Downloading outcome-1.3.0.post0-py2.py3-none-any.whl.metadata (2.6 kB)\n",
            "Requirement already satisfied: sniffio>=1.3.0 in /usr/local/lib/python3.10/dist-packages (from trio~=0.17->selenium<=4.2.0,>=3.141.0->dash[testing]) (1.3.1)\n",
            "Collecting wsproto>=0.14 (from trio-websocket~=0.9->selenium<=4.2.0,>=3.141.0->dash[testing])\n",
            "  Downloading wsproto-1.2.0-py3-none-any.whl.metadata (5.6 kB)\n",
            "Requirement already satisfied: PySocks!=1.5.7,<2.0,>=1.5.6 in /usr/local/lib/python3.10/dist-packages (from urllib3[secure,socks]~=1.26->selenium<=4.2.0,>=3.141.0->dash[testing]) (1.7.1)\n",
            "Requirement already satisfied: pyOpenSSL>=0.14 in /usr/local/lib/python3.10/dist-packages (from urllib3[secure,socks]~=1.26->selenium<=4.2.0,>=3.141.0->dash[testing]) (24.2.1)\n",
            "Collecting urllib3-secure-extra (from urllib3[secure,socks]~=1.26->selenium<=4.2.0,>=3.141.0->dash[testing])\n",
            "  Downloading urllib3_secure_extra-0.1.0-py2.py3-none-any.whl.metadata (828 bytes)\n",
            "Collecting h11<1,>=0.9.0 (from wsproto>=0.14->trio-websocket~=0.9->selenium<=4.2.0,>=3.141.0->dash[testing])\n",
            "  Downloading h11-0.14.0-py3-none-any.whl.metadata (8.2 kB)\n",
            "Downloading dash_testing_stub-0.0.2-py3-none-any.whl (2.6 kB)\n",
            "Downloading multiprocess-0.70.16-py310-none-any.whl (134 kB)\n",
            "\u001b[2K   \u001b[90m━━━━━━━━━━━━━━━━━━━━━━━━━━━━━━━━━━━━━━━━\u001b[0m \u001b[32m134.8/134.8 kB\u001b[0m \u001b[31m5.9 MB/s\u001b[0m eta \u001b[36m0:00:00\u001b[0m\n",
            "\u001b[?25hDownloading percy-2.0.2-py2.py3-none-any.whl (12 kB)\n",
            "Downloading selenium-4.2.0-py3-none-any.whl (983 kB)\n",
            "\u001b[2K   \u001b[90m━━━━━━━━━━━━━━━━━━━━━━━━━━━━━━━━━━━━━━━━\u001b[0m \u001b[32m983.2/983.2 kB\u001b[0m \u001b[31m22.1 MB/s\u001b[0m eta \u001b[36m0:00:00\u001b[0m\n",
            "\u001b[?25hDownloading waitress-3.0.0-py3-none-any.whl (56 kB)\n",
            "\u001b[2K   \u001b[90m━━━━━━━━━━━━━━━━━━━━━━━━━━━━━━━━━━━━━━━━\u001b[0m \u001b[32m56.7/56.7 kB\u001b[0m \u001b[31m3.7 MB/s\u001b[0m eta \u001b[36m0:00:00\u001b[0m\n",
            "\u001b[?25hDownloading dill-0.3.8-py3-none-any.whl (116 kB)\n",
            "\u001b[2K   \u001b[90m━━━━━━━━━━━━━━━━━━━━━━━━━━━━━━━━━━━━━━━━\u001b[0m \u001b[32m116.3/116.3 kB\u001b[0m \u001b[31m7.5 MB/s\u001b[0m eta \u001b[36m0:00:00\u001b[0m\n",
            "\u001b[?25hDownloading trio-0.26.2-py3-none-any.whl (475 kB)\n",
            "\u001b[2K   \u001b[90m━━━━━━━━━━━━━━━━━━━━━━━━━━━━━━━━━━━━━━━━\u001b[0m \u001b[32m476.0/476.0 kB\u001b[0m \u001b[31m19.7 MB/s\u001b[0m eta \u001b[36m0:00:00\u001b[0m\n",
            "\u001b[?25hDownloading trio_websocket-0.11.1-py3-none-any.whl (17 kB)\n",
            "Downloading urllib3-1.26.20-py2.py3-none-any.whl (144 kB)\n",
            "\u001b[2K   \u001b[90m━━━━━━━━━━━━━━━━━━━━━━━━━━━━━━━━━━━━━━━━\u001b[0m \u001b[32m144.2/144.2 kB\u001b[0m \u001b[31m9.2 MB/s\u001b[0m eta \u001b[36m0:00:00\u001b[0m\n",
            "\u001b[?25hDownloading wsproto-1.2.0-py3-none-any.whl (24 kB)\n",
            "Downloading outcome-1.3.0.post0-py2.py3-none-any.whl (10 kB)\n",
            "Downloading urllib3_secure_extra-0.1.0-py2.py3-none-any.whl (1.4 kB)\n",
            "Downloading h11-0.14.0-py3-none-any.whl (58 kB)\n",
            "\u001b[2K   \u001b[90m━━━━━━━━━━━━━━━━━━━━━━━━━━━━━━━━━━━━━━━━\u001b[0m \u001b[32m58.3/58.3 kB\u001b[0m \u001b[31m3.6 MB/s\u001b[0m eta \u001b[36m0:00:00\u001b[0m\n",
            "\u001b[?25hInstalling collected packages: urllib3-secure-extra, dash-testing-stub, waitress, urllib3, outcome, h11, dill, wsproto, trio, multiprocess, trio-websocket, percy, selenium\n",
            "  Attempting uninstall: urllib3\n",
            "    Found existing installation: urllib3 2.0.7\n",
            "    Uninstalling urllib3-2.0.7:\n",
            "      Successfully uninstalled urllib3-2.0.7\n",
            "Successfully installed dash-testing-stub-0.0.2 dill-0.3.8 h11-0.14.0 multiprocess-0.70.16 outcome-1.3.0.post0 percy-2.0.2 selenium-4.2.0 trio-0.26.2 trio-websocket-0.11.1 urllib3-1.26.20 urllib3-secure-extra-0.1.0 waitress-3.0.0 wsproto-1.2.0\n"
          ]
        },
        {
          "output_type": "display_data",
          "data": {
            "application/vnd.colab-display-data+json": {
              "pip_warning": {
                "packages": [
                  "urllib3"
                ]
              },
              "id": "e3dd891a3424472aaf6cce8d1b3f2be1"
            }
          },
          "metadata": {}
        }
      ]
    },
    {
      "source": [
        "import dash\n",
        "import dash_bootstrap_components as dbc\n",
        "from dash import dcc, html\n",
        "import unittest\n",
        "from dash.testing.composite import DashComposite\n",
        "\n",
        "\n",
        "# Define the app layout\n",
        "app = dash.Dash(__name__, external_stylesheets=[dbc.themes.BOOTSTRAP])\n",
        "app.layout = dbc.Container([\n",
        "    html.H1('Pink Morsels Sales Analysis', className='text-center mb-4'),\n",
        "    html.P('This graph shows the sales of Pink Morsels over time.', className='text-center mb-4'),\n",
        "\n",
        "    dbc.Row([\n",
        "        dbc.Col([\n",
        "            dcc.RadioItems(\n",
        "                id='region-filter',\n",
        "                options=[\n",
        "                    {'label': 'All', 'value': 'all'},\n",
        "                    {'label': 'North', 'value': 'north'},\n",
        "                    {'label': 'East', 'value': 'east'},\n",
        "                    {'label': 'South', 'value': 'south'},\n",
        "                    {'label': 'West', 'value': 'west'},\n",
        "                ],\n",
        "                value='all',\n",
        "                className='mb-4'\n",
        "            ),\n",
        "        ], width=4),\n",
        "        dbc.Col([\n",
        "            dcc.Graph(id='sales-over-time'),\n",
        "        ], width=8),\n",
        "    ]),\n",
        "])\n",
        "\n",
        "class TestDashApp(unittest.TestCase):\n",
        "    def setUp(self):\n",
        "        self.app = DashComposite(app)\n",
        "\n",
        "    def test_h1_present(self):\n",
        "        self.app.wait_for_element('h1')\n",
        "\n",
        "    def test_graph_present(self):\n",
        "        self.app.wait_for_element('#sales-over-time')\n",
        "\n",
        "    def test_radio_items_present(self):\n",
        "        self.app.wait_for_element('#region-filter input')\n",
        "\n",
        "    def tearDown(self):\n",
        "        self.app.close()\n",
        "\n",
        "if __name__ == '__main__':\n",
        "    unittest.main()"
      ],
      "cell_type": "code",
      "metadata": {
        "colab": {
          "base_uri": "https://localhost:8080/",
          "height": 366
        },
        "id": "cgeeZD92UK6D",
        "outputId": "6961197f-136b-4fca-e409-3981587e2562"
      },
      "execution_count": 1,
      "outputs": [
        {
          "output_type": "stream",
          "name": "stderr",
          "text": [
            "E\n",
            "======================================================================\n",
            "ERROR: /root/ (unittest.loader._FailedTest)\n",
            "----------------------------------------------------------------------\n",
            "AttributeError: module '__main__' has no attribute '/root/'\n",
            "\n",
            "----------------------------------------------------------------------\n",
            "Ran 1 test in 0.004s\n",
            "\n",
            "FAILED (errors=1)\n"
          ]
        },
        {
          "output_type": "error",
          "ename": "SystemExit",
          "evalue": "True",
          "traceback": [
            "An exception has occurred, use %tb to see the full traceback.\n",
            "\u001b[0;31mSystemExit\u001b[0m\u001b[0;31m:\u001b[0m True\n"
          ]
        },
        {
          "output_type": "stream",
          "name": "stderr",
          "text": [
            "/usr/local/lib/python3.10/dist-packages/IPython/core/interactiveshell.py:3561: UserWarning:\n",
            "\n",
            "To exit: use 'exit', 'quit', or Ctrl-D.\n",
            "\n"
          ]
        }
      ]
    },
    {
      "source": [
        "import dash\n",
        "import dash_bootstrap_components as dbc\n",
        "from dash import dcc, html\n",
        "import unittest\n",
        "from dash.testing.composite import DashComposite\n",
        "\n",
        "\n",
        "# Define the app layout\n",
        "app = dash.Dash(__name__, external_stylesheets=[dbc.themes.BOOTSTRAP])\n",
        "app.layout = dbc.Container([\n",
        "    html.H1('Pink Morsels Sales Analysis', className='text-center mb-4'),\n",
        "    html.P('This graph shows the sales of Pink Morsels over time.', className='text-center mb-4'),\n",
        "\n",
        "    dbc.Row([\n",
        "        dbc.Col([\n",
        "            dcc.RadioItems(\n",
        "                id='region-filter',\n",
        "                options=[\n",
        "                    {'label': 'All', 'value': 'all'},\n",
        "                    {'label': 'North', 'value': 'north'},\n",
        "                    {'label': 'East', 'value': 'east'},\n",
        "                    {'label': 'South', 'value': 'south'},\n",
        "                    {'label': 'West', 'value': 'west'},\n",
        "                ],\n",
        "                value='all',\n",
        "                className='mb-4'\n",
        "            ),\n",
        "        ], width=4),\n",
        "        dbc.Col([\n",
        "            dcc.Graph(id='sales-over-time'),\n",
        "        ], width=8),\n",
        "    ]),\n",
        "])\n",
        "\n",
        "class TestDashApp(unittest.TestCase):\n",
        "    def setUp(self):\n",
        "        self.app = DashComposite(app)\n",
        "\n",
        "    def test_h1_present(self):\n",
        "        self.app.wait_for_element('h1')\n",
        "\n",
        "    def test_graph_present(self):\n",
        "        self.app.wait_for_element('#sales-over-time')\n",
        "\n",
        "    def test_radio_items_present(self):\n",
        "        self.app.wait_for_element('#region-filter input')\n",
        "\n",
        "    def tearDown(self):\n",
        "        self.app.close()\n",
        "\n",
        "# Remove unittest.main() and instead run the tests from the command line using the command `python -m unittest <filename.py>`\n",
        "# if __name__ == '__main__':\n",
        "#    unittest.main()"
      ],
      "cell_type": "code",
      "metadata": {
        "id": "R8Mb280CUaI8"
      },
      "execution_count": 2,
      "outputs": []
    },
    {
      "source": [
        "#!/bin/bash\n",
        "\n",
        "# Activate the virtual environment (replace with your actual virtual environment activation command)\n",
        "source .venv/bin/activate\n",
        "# Execute the test suite\n",
        "!python -m unittest test_dash_app.py\n",
        "# Check the exit code of the test suite\n",
        "if [[ $? -eq 0 ]]; then\n",
        "  echo \"All tests passed!\"\n",
        "  exit 0\n",
        "fi\n",
        "fi\n",
        "else\n",
        "  echo \"Some tests failed!\"\n",
        "  exit 1\n",
        "fi"
      ],
      "cell_type": "code",
      "metadata": {
        "colab": {
          "base_uri": "https://localhost:8080/",
          "height": 110
        },
        "id": "ZdaOAh5PUrFx",
        "outputId": "d7136844-f1bd-4e30-cfd2-07647dd85729"
      },
      "execution_count": 6,
      "outputs": [
        {
          "output_type": "error",
          "ename": "SyntaxError",
          "evalue": "invalid syntax (<ipython-input-6-08aee52c632e>, line 8)",
          "traceback": [
            "\u001b[0;36m  File \u001b[0;32m\"<ipython-input-6-08aee52c632e>\"\u001b[0;36m, line \u001b[0;32m8\u001b[0m\n\u001b[0;31m    if [[ $? -eq 0 ]]; then\u001b[0m\n\u001b[0m          ^\u001b[0m\n\u001b[0;31mSyntaxError\u001b[0m\u001b[0;31m:\u001b[0m invalid syntax\n"
          ]
        }
      ]
    },
    {
      "cell_type": "code",
      "source": [
        "!nano run_tests.sh"
      ],
      "metadata": {
        "colab": {
          "base_uri": "https://localhost:8080/"
        },
        "id": "n7uvuBAxU5kT",
        "outputId": "932e2a20-6f3a-4825-b5e1-b3345e133697"
      },
      "execution_count": 8,
      "outputs": [
        {
          "output_type": "stream",
          "name": "stdout",
          "text": [
            "/bin/bash: line 1: nano: command not found\n"
          ]
        }
      ]
    },
    {
      "cell_type": "code",
      "source": [
        "# prompt: create bash file\n",
        "# #!/bin/bash\n",
        "# # Activate the virtual environment (replace with your actual virtual environment activation command)\n",
        "# source .venv/bin/activate\n",
        "# # Execute the test suite\n",
        "# python -m unittest test_dash_app.py\n",
        "# # Check the exit code of the test suite\n",
        "# if [[ $? -eq 0 ]]; then\n",
        "#   echo \"All tests passed!\"\n",
        "#   exit 0\n",
        "# else\n",
        "#   echo \"Some tests failed!\"\n",
        "#   exit 1\n",
        "# fi\n",
        "\n",
        "%%writefile run_tests.sh\n",
        "#!/bin/bash\n",
        "\n",
        "# Activate the virtual environment (replace with your actual virtual environment activation command)\n",
        "source .venv/bin/activate\n",
        "# Execute the test suite\n",
        "python -m unittest test_dash_app.py\n",
        "# Check the exit code of the test suite\n",
        "if [[ $? -eq 0 ]]; then\n",
        "  echo \"All tests passed!\"\n",
        "  exit 0\n",
        "else\n",
        "  echo \"Some tests failed!\"\n",
        "  exit 1\n",
        "fi\n"
      ],
      "metadata": {
        "colab": {
          "base_uri": "https://localhost:8080/"
        },
        "id": "Hcyb46XMVAZf",
        "outputId": "560fefc0-fc16-44cf-e13d-9ca71f0d9f60"
      },
      "execution_count": 9,
      "outputs": [
        {
          "output_type": "stream",
          "name": "stdout",
          "text": [
            "Writing run_tests.sh\n"
          ]
        }
      ]
    },
    {
      "cell_type": "code",
      "source": [
        "ls\n"
      ],
      "metadata": {
        "colab": {
          "base_uri": "https://localhost:8080/"
        },
        "id": "0lE7F_S7VLko",
        "outputId": "9f822222-f796-478e-a7b0-73bd4211faf5"
      },
      "execution_count": 10,
      "outputs": [
        {
          "output_type": "stream",
          "name": "stdout",
          "text": [
            "formatted_output.csv  \u001b[0m\u001b[01;34mquantium-starter-repo\u001b[0m/  run_tests.sh  \u001b[01;34msample_data\u001b[0m/\n"
          ]
        }
      ]
    },
    {
      "cell_type": "code",
      "source": [
        "# prompt: chmod +x run_tests.sh\n",
        "\n",
        "!chmod +x run_tests.sh\n"
      ],
      "metadata": {
        "id": "r4dtXpvbVOFD"
      },
      "execution_count": 11,
      "outputs": []
    },
    {
      "cell_type": "code",
      "source": [
        "# prompt: ./run_tests.sh\n",
        "\n",
        "!./run_tests.sh\n"
      ],
      "metadata": {
        "colab": {
          "base_uri": "https://localhost:8080/"
        },
        "id": "4prFZhhoVR3t",
        "outputId": "35b1ec59-f738-4126-c8d3-cc23fd352cf9"
      },
      "execution_count": 12,
      "outputs": [
        {
          "output_type": "stream",
          "name": "stdout",
          "text": [
            "./run_tests.sh: line 4: .venv/bin/activate: No such file or directory\n",
            "E\n",
            "======================================================================\n",
            "ERROR: test_dash_app (unittest.loader._FailedTest)\n",
            "----------------------------------------------------------------------\n",
            "ImportError: Failed to import test module: test_dash_app\n",
            "Traceback (most recent call last):\n",
            "  File \"/usr/lib/python3.10/unittest/loader.py\", line 154, in loadTestsFromName\n",
            "    module = __import__(module_name)\n",
            "ModuleNotFoundError: No module named 'test_dash_app'\n",
            "\n",
            "\n",
            "----------------------------------------------------------------------\n",
            "Ran 1 test in 0.000s\n",
            "\n",
            "FAILED (errors=1)\n",
            "Some tests failed!\n"
          ]
        }
      ]
    },
    {
      "cell_type": "code",
      "source": [
        "# prompt: what name should i give to this notebook\n",
        "\n",
        "# No code necessary for this task.\n",
        "# This is a question about naming conventions and context, not code generation.\n",
        "# A suitable name for this notebook could be:\n",
        "# \"Pink Morsels Sales Analysis with Dash and Unit Tests\"\n",
        "# or\n",
        "# \"Quantium Data Analysis and Visualization\"\n"
      ],
      "metadata": {
        "id": "_S8McuPzVbj2"
      },
      "execution_count": 13,
      "outputs": []
    }
  ]
}